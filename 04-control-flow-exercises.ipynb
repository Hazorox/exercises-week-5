{
 "cells": [
  {
   "cell_type": "markdown",
   "id": "653e3fc3",
   "metadata": {
    "slideshow": {
     "slide_type": "slide"
    }
   },
   "source": [
    "## Control flow: in-class exercises"
   ]
  },
  {
   "cell_type": "markdown",
   "id": "436e9e83",
   "metadata": {
    "slideshow": {
     "slide_type": "slide"
    }
   },
   "source": [
    "### Exercise 1\n",
    "\n",
    "Write a program that prints all integers between 100 and 125 (including 100 and 125) to the screen using a `for` loop."
   ]
  },
  {
   "cell_type": "code",
   "execution_count": 3,
   "id": "8dfa9ddc-a26b-4b2c-896a-2e999b60d4b9",
   "metadata": {},
   "outputs": [
    {
     "name": "stdout",
     "output_type": "stream",
     "text": [
      "[0, 1, 2, 3, 4, 5, 6, 7, 8, 9, 10, 11, 12, 13, 14, 15, 16, 17, 18, 19, 20, 21, 22, 23, 24]\n"
     ]
    }
   ],
   "source": [
    "# Ex 1\n",
    "print(list(range(100,126)))"
   ]
  },
  {
   "cell_type": "markdown",
   "id": "bf452e62",
   "metadata": {
    "slideshow": {
     "slide_type": "slide"
    }
   },
   "source": [
    "### Exercise 2\n",
    "\n",
    "Do the same as exercise 1, but this time use a `while` loop."
   ]
  },
  {
   "cell_type": "code",
   "execution_count": 8,
   "id": "446f283f-08b6-4678-9bb4-99bbbe57a6ef",
   "metadata": {},
   "outputs": [
    {
     "name": "stdout",
     "output_type": "stream",
     "text": [
      "100\n",
      "101\n",
      "102\n",
      "103\n",
      "104\n",
      "105\n",
      "106\n",
      "107\n",
      "108\n",
      "109\n",
      "110\n",
      "111\n",
      "112\n",
      "113\n",
      "114\n",
      "115\n",
      "116\n",
      "117\n",
      "118\n",
      "119\n",
      "120\n",
      "121\n",
      "122\n",
      "123\n",
      "124\n",
      "125\n"
     ]
    }
   ],
   "source": [
    "# Ex 2\n",
    "x = 100\n",
    "while x < 126 :\n",
    "    print(x)\n",
    "    x+=1"
   ]
  },
  {
   "cell_type": "markdown",
   "id": "4134d778",
   "metadata": {
    "slideshow": {
     "slide_type": "slide"
    }
   },
   "source": [
    "### Exercise 3\n",
    "\n",
    "Do the same as exercise 1, but this time only print those numbers between 100 and 125 that are multiples of 3."
   ]
  },
  {
   "cell_type": "code",
   "execution_count": 9,
   "id": "cb1a0e57-fbff-4203-9e24-52300f7317fe",
   "metadata": {},
   "outputs": [
    {
     "name": "stdout",
     "output_type": "stream",
     "text": [
      "102\n",
      "105\n",
      "108\n",
      "111\n",
      "114\n",
      "117\n",
      "120\n",
      "123\n"
     ]
    }
   ],
   "source": [
    "# Ex 3\n",
    "for i in list(range(100,126)):\n",
    "    if i % 3 == 0 :\n",
    "        print(i)"
   ]
  },
  {
   "cell_type": "markdown",
   "id": "c66b6fc6",
   "metadata": {
    "slideshow": {
     "slide_type": "slide"
    }
   },
   "source": [
    "### Exercise 4\n",
    "\n",
    "Print each of the following fruits to the screen:"
   ]
  },
  {
   "cell_type": "code",
   "execution_count": 11,
   "id": "bd3bd19b",
   "metadata": {
    "collapsed": false,
    "jupyter": {
     "outputs_hidden": false
    }
   },
   "outputs": [],
   "source": [
    "fruit_names = ['pear', 'apple', 'banana', 'orange']"
   ]
  },
  {
   "cell_type": "code",
   "execution_count": 12,
   "id": "19fe9822-b168-40fb-af5f-3c8bd5701921",
   "metadata": {},
   "outputs": [
    {
     "name": "stdout",
     "output_type": "stream",
     "text": [
      "pear\n",
      "apple\n",
      "banana\n",
      "orange\n"
     ]
    }
   ],
   "source": [
    "for fruit in fruit_names:\n",
    "    print(fruit)"
   ]
  },
  {
   "cell_type": "markdown",
   "id": "bbb2430f",
   "metadata": {
    "slideshow": {
     "slide_type": "slide"
    }
   },
   "source": [
    "### Exercise 5\n",
    "\n",
    "For each of the above fruits, you are given the colour in a separate list:"
   ]
  },
  {
   "cell_type": "code",
   "execution_count": 16,
   "id": "19daca69-84f9-4770-93f4-fe3e54e35f33",
   "metadata": {
    "collapsed": false,
    "jupyter": {
     "outputs_hidden": false
    }
   },
   "outputs": [],
   "source": [
    "fruit_colours = ['green', 'red', 'yellow', 'orange']"
   ]
  },
  {
   "cell_type": "code",
   "execution_count": 18,
   "id": "142d3167-0d7e-4432-a978-1ac5eb435122",
   "metadata": {
    "collapsed": false,
    "jupyter": {
     "outputs_hidden": false
    }
   },
   "outputs": [
    {
     "name": "stdout",
     "output_type": "stream",
     "text": [
      "The pear is green \n",
      "The apple is red \n",
      "The banana is yellow \n",
      "The orange is orange \n"
     ]
    }
   ],
   "source": [
    "# Sorry didn't see the hint 😅\n",
    "for fruit in fruit_names :\n",
    "    print(f'The {fruit} is {fruit_colours[fruit_names.index(fruit)]} ')"
   ]
  },
  {
   "cell_type": "markdown",
   "id": "ade4d236",
   "metadata": {},
   "source": [
    "Write a program that informs the user of the colour of each fruit. The expected output is:\n",
    "\n",
    "```\n",
    "The pear is green.\n",
    "The apple is red.\n",
    "The banana is yellow.\n",
    "The orange is orange.\n",
    "```\n",
    "\n",
    "Hint: you can use the `zip()` function that is built into Python to combine two lists as follows:"
   ]
  },
  {
   "cell_type": "code",
   "execution_count": 18,
   "id": "d8eae7e8",
   "metadata": {
    "collapsed": false,
    "jupyter": {
     "outputs_hidden": false
    }
   },
   "outputs": [
    {
     "data": {
      "text/plain": [
       "[('pear', 'green'),\n",
       " ('apple', 'red'),\n",
       " ('banana', 'yellow'),\n",
       " ('orange', 'orange')]"
      ]
     },
     "execution_count": 18,
     "metadata": {},
     "output_type": "execute_result"
    }
   ],
   "source": [
    "zip(fruit_names, fruit_colours)"
   ]
  },
  {
   "cell_type": "markdown",
   "id": "e5d4e083",
   "metadata": {
    "slideshow": {
     "slide_type": "slide"
    }
   },
   "source": [
    "### Exercise 6\n",
    "\n",
    "Write a tool to compute the mean value from a series of numbers entered by a user. The user should be able to enter as many numbers as he/she wants.\n",
    "\n",
    "When the user types \"stop\" instead of a number, the program computes and displays the mean value of all the numbers entered, and then stops.\n",
    "\n",
    "Hint: you can use the following function to ask the user interactively \n",
    "for a number:"
   ]
  },
  {
   "cell_type": "code",
   "execution_count": 40,
   "id": "42bb0f0e-cb22-4538-bf73-58337438ed45",
   "metadata": {},
   "outputs": [],
   "source": [
    "# Ex 6\n",
    "def raw_input(text):\n",
    "    numbers = []\n",
    "    while True:\n",
    "        x = input(text)\n",
    "        if x.upper() == 'STOP':\n",
    "            break\n",
    "        try:\n",
    "            x = int(x)\n",
    "            numbers.append(x)\n",
    "        except:\n",
    "            print(\"Please Enter a valid value\")\n",
    "    sum = 0\n",
    "    for n in numbers:\n",
    "        sum+=n\n",
    "    return f\"Mean : {sum/len(numbers)}\""
   ]
  },
  {
   "cell_type": "code",
   "execution_count": 39,
   "id": "04cdfdb6",
   "metadata": {
    "collapsed": false,
    "jupyter": {
     "outputs_hidden": false
    }
   },
   "outputs": [
    {
     "name": "stdin",
     "output_type": "stream",
     "text": [
      "Enter a number or type stop:  5\n",
      "Enter a number or type stop:  6\n",
      "Enter a number or type stop:  1\n",
      "Enter a number or type stop:  hi\n"
     ]
    },
    {
     "name": "stdout",
     "output_type": "stream",
     "text": [
      "Please Enter a valid value\n"
     ]
    },
    {
     "name": "stdin",
     "output_type": "stream",
     "text": [
      "Enter a number or type stop:  lol\n"
     ]
    },
    {
     "name": "stdout",
     "output_type": "stream",
     "text": [
      "Please Enter a valid value\n"
     ]
    },
    {
     "name": "stdin",
     "output_type": "stream",
     "text": [
      "Enter a number or type stop:  stop\n"
     ]
    },
    {
     "name": "stdout",
     "output_type": "stream",
     "text": [
      "Mean : 4.0\n"
     ]
    }
   ],
   "source": [
    "number = raw_input(\"Enter a number or type stop: \")\n",
    "print(number)"
   ]
  }
 ],
 "metadata": {
  "celltoolbar": "Slideshow",
  "kernelspec": {
   "display_name": "Python 3 (ipykernel)",
   "language": "python",
   "name": "python3"
  },
  "language_info": {
   "codemirror_mode": {
    "name": "ipython",
    "version": 3
   },
   "file_extension": ".py",
   "mimetype": "text/x-python",
   "name": "python",
   "nbconvert_exporter": "python",
   "pygments_lexer": "ipython3",
   "version": "3.12.3"
  }
 },
 "nbformat": 4,
 "nbformat_minor": 5
}
