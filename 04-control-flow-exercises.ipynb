{
 "metadata": {
  "celltoolbar": "Slideshow",
  "name": "",
  "signature": "sha256:8c721a9cebba47ca81dfa895b60979dcc9b0bb20e1addf3bb8d27b4454c63ccc"
 },
 "nbformat": 3,
 "nbformat_minor": 0,
 "worksheets": [
  {
   "cells": [
    {
     "cell_type": "markdown",
     "metadata": {
      "slideshow": {
       "slide_type": "slide"
      }
     },
     "source": [
      "## Control flow: in-class exercises"
     ]
    },
    {
     "cell_type": "markdown",
     "metadata": {
      "slideshow": {
       "slide_type": "slide"
      }
     },
     "source": [
      "### Exercise 1\n",
      "\n",
      "Write a program that prints all integers between 100 and 125 (including 100 and 125) to the screen using a `for` loop."
     ]
    },
    {
     "cell_type": "markdown",
     "metadata": {
      "slideshow": {
       "slide_type": "slide"
      }
     },
     "source": [
      "### Exercise 2\n",
      "\n",
      "Do the same as exercise 1, but this time use a `while` loop."
     ]
    },
    {
     "cell_type": "markdown",
     "metadata": {
      "slideshow": {
       "slide_type": "slide"
      }
     },
     "source": [
      "### Exercise 3\n",
      "\n",
      "Do the same as exercise 1, but this time only print those numbers between 100 and 125 that are multiples of 3."
     ]
    },
    {
     "cell_type": "markdown",
     "metadata": {
      "slideshow": {
       "slide_type": "slide"
      }
     },
     "source": [
      "### Exercise 4\n",
      "\n",
      "Print each of the following fruits to the screen:"
     ]
    },
    {
     "cell_type": "code",
     "collapsed": false,
     "input": [
      "fruit_names = ['pear', 'apple', 'banana', 'orange']"
     ],
     "language": "python",
     "metadata": {},
     "outputs": [],
     "prompt_number": 16
    },
    {
     "cell_type": "markdown",
     "metadata": {
      "slideshow": {
       "slide_type": "slide"
      }
     },
     "source": [
      "### Exercise 5\n",
      "\n",
      "For each of the above fruits, you are given the colour in a separate list:"
     ]
    },
    {
     "cell_type": "code",
     "collapsed": false,
     "input": [
      "fruit_colours = ['green', 'red', 'yellow', 'orange']"
     ],
     "language": "python",
     "metadata": {},
     "outputs": [],
     "prompt_number": 17
    },
    {
     "cell_type": "markdown",
     "metadata": {},
     "source": [
      "Write a program that informs the user of the colour of each fruit. The expected output is:\n",
      "\n",
      "```\n",
      "The pear is green.\n",
      "The apple is red.\n",
      "The banana is yellow.\n",
      "The orange is orange.\n",
      "```\n",
      "\n",
      "Hint: you can use the `zip()` function that is built into Python to combine two lists as follows:"
     ]
    },
    {
     "cell_type": "code",
     "collapsed": false,
     "input": [
      "zip(fruit_names, fruit_colours)"
     ],
     "language": "python",
     "metadata": {},
     "outputs": [
      {
       "metadata": {},
       "output_type": "pyout",
       "prompt_number": 18,
       "text": [
        "[('pear', 'green'),\n",
        " ('apple', 'red'),\n",
        " ('banana', 'yellow'),\n",
        " ('orange', 'orange')]"
       ]
      }
     ],
     "prompt_number": 18
    },
    {
     "cell_type": "markdown",
     "metadata": {
      "slideshow": {
       "slide_type": "slide"
      }
     },
     "source": [
      "### Exercise 6\n",
      "\n",
      "Write a tool to compute the mean value from a series of numbers entered by a user. The user should be able to enter as many numbers as he/she wants.\n",
      "\n",
      "When the user types \"stop\" instead of a number, the program computes and displays the mean value of all the numbers entered, and then stops.\n",
      "\n",
      "Hint: you can use the following function to ask the user interactively \n",
      "for a number:"
     ]
    },
    {
     "cell_type": "code",
     "collapsed": false,
     "input": [
      "number = raw_input(\"Enter a number or type stop: \")"
     ],
     "language": "python",
     "metadata": {},
     "outputs": [
      {
       "name": "stdout",
       "output_type": "stream",
       "stream": "stdout",
       "text": [
        "Enter a number or type stop: 4\n"
       ]
      }
     ],
     "prompt_number": 19
    }
   ],
   "metadata": {}
  }
 ]
}